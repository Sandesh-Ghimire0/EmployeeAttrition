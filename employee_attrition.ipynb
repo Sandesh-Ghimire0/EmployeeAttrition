{
 "cells": [
  {
   "cell_type": "code",
   "execution_count": 1,
   "id": "caaeb31f",
   "metadata": {},
   "outputs": [],
   "source": [
    "import numpy as np\n",
    "import pandas as pd\n",
    "from sklearn.preprocessing import StandardScaler, LabelEncoder, OneHotEncoder, OrdinalEncoder\n",
    "from sklearn.linear_model import LogisticRegression\n",
    "from sklearn.model_selection import train_test_split\n",
    "from sklearn.compose import ColumnTransformer\n",
    "from sklearn.metrics import accuracy_score\n",
    "from sklearn.ensemble import RandomForestClassifier, GradientBoostingClassifier\n"
   ]
  },
  {
   "cell_type": "code",
   "execution_count": 2,
   "id": "da75405e",
   "metadata": {},
   "outputs": [
    {
     "data": {
      "text/html": [
       "<div>\n",
       "<style scoped>\n",
       "    .dataframe tbody tr th:only-of-type {\n",
       "        vertical-align: middle;\n",
       "    }\n",
       "\n",
       "    .dataframe tbody tr th {\n",
       "        vertical-align: top;\n",
       "    }\n",
       "\n",
       "    .dataframe thead th {\n",
       "        text-align: right;\n",
       "    }\n",
       "</style>\n",
       "<table border=\"1\" class=\"dataframe\">\n",
       "  <thead>\n",
       "    <tr style=\"text-align: right;\">\n",
       "      <th></th>\n",
       "      <th>Age</th>\n",
       "      <th>Gender</th>\n",
       "      <th>Department</th>\n",
       "      <th>Job_Title</th>\n",
       "      <th>Years_at_Company</th>\n",
       "      <th>Satisfaction_Level</th>\n",
       "      <th>Average_Monthly_Hours</th>\n",
       "      <th>Promotion_Last_5Years</th>\n",
       "      <th>Salary</th>\n",
       "      <th>Attrition</th>\n",
       "    </tr>\n",
       "  </thead>\n",
       "  <tbody>\n",
       "    <tr>\n",
       "      <th>0</th>\n",
       "      <td>27</td>\n",
       "      <td>Male</td>\n",
       "      <td>Marketing</td>\n",
       "      <td>Manager</td>\n",
       "      <td>9</td>\n",
       "      <td>0.586251</td>\n",
       "      <td>151</td>\n",
       "      <td>0</td>\n",
       "      <td>60132</td>\n",
       "      <td>0</td>\n",
       "    </tr>\n",
       "    <tr>\n",
       "      <th>1</th>\n",
       "      <td>53</td>\n",
       "      <td>Female</td>\n",
       "      <td>Sales</td>\n",
       "      <td>Engineer</td>\n",
       "      <td>10</td>\n",
       "      <td>0.261161</td>\n",
       "      <td>221</td>\n",
       "      <td>1</td>\n",
       "      <td>79947</td>\n",
       "      <td>0</td>\n",
       "    </tr>\n",
       "    <tr>\n",
       "      <th>2</th>\n",
       "      <td>59</td>\n",
       "      <td>Female</td>\n",
       "      <td>Marketing</td>\n",
       "      <td>Analyst</td>\n",
       "      <td>8</td>\n",
       "      <td>0.304382</td>\n",
       "      <td>184</td>\n",
       "      <td>0</td>\n",
       "      <td>46958</td>\n",
       "      <td>1</td>\n",
       "    </tr>\n",
       "    <tr>\n",
       "      <th>3</th>\n",
       "      <td>42</td>\n",
       "      <td>Female</td>\n",
       "      <td>Engineering</td>\n",
       "      <td>Manager</td>\n",
       "      <td>1</td>\n",
       "      <td>0.480779</td>\n",
       "      <td>242</td>\n",
       "      <td>0</td>\n",
       "      <td>40662</td>\n",
       "      <td>0</td>\n",
       "    </tr>\n",
       "    <tr>\n",
       "      <th>4</th>\n",
       "      <td>44</td>\n",
       "      <td>Female</td>\n",
       "      <td>Sales</td>\n",
       "      <td>Engineer</td>\n",
       "      <td>10</td>\n",
       "      <td>0.636244</td>\n",
       "      <td>229</td>\n",
       "      <td>1</td>\n",
       "      <td>74307</td>\n",
       "      <td>0</td>\n",
       "    </tr>\n",
       "  </tbody>\n",
       "</table>\n",
       "</div>"
      ],
      "text/plain": [
       "   Age  Gender   Department Job_Title  Years_at_Company  Satisfaction_Level  \\\n",
       "0   27    Male    Marketing   Manager                 9            0.586251   \n",
       "1   53  Female        Sales  Engineer                10            0.261161   \n",
       "2   59  Female    Marketing   Analyst                 8            0.304382   \n",
       "3   42  Female  Engineering   Manager                 1            0.480779   \n",
       "4   44  Female        Sales  Engineer                10            0.636244   \n",
       "\n",
       "   Average_Monthly_Hours  Promotion_Last_5Years  Salary  Attrition  \n",
       "0                    151                      0   60132          0  \n",
       "1                    221                      1   79947          0  \n",
       "2                    184                      0   46958          1  \n",
       "3                    242                      0   40662          0  \n",
       "4                    229                      1   74307          0  "
      ]
     },
     "execution_count": 2,
     "metadata": {},
     "output_type": "execute_result"
    }
   ],
   "source": [
    "df = pd.read_csv('employee_attrition_data.csv')\n",
    "df.drop(columns = ['Employee_ID'],inplace=True)\n",
    "df.head()"
   ]
  },
  {
   "cell_type": "code",
   "execution_count": null,
   "id": "ce4bec59",
   "metadata": {},
   "outputs": [],
   "source": []
  },
  {
   "cell_type": "code",
   "execution_count": 3,
   "id": "a6addecf",
   "metadata": {},
   "outputs": [
    {
     "data": {
      "text/plain": [
       "Index(['Age', 'Gender', 'Department', 'Job_Title', 'Years_at_Company',\n",
       "       'Satisfaction_Level', 'Average_Monthly_Hours', 'Promotion_Last_5Years',\n",
       "       'Salary', 'Attrition'],\n",
       "      dtype='object')"
      ]
     },
     "execution_count": 3,
     "metadata": {},
     "output_type": "execute_result"
    }
   ],
   "source": [
    "df.columns"
   ]
  },
  {
   "cell_type": "code",
   "execution_count": 4,
   "id": "28213b36",
   "metadata": {},
   "outputs": [
    {
     "data": {
      "text/plain": [
       "Job_Title\n",
       "Engineer         214\n",
       "Manager          206\n",
       "Accountant       206\n",
       "Analyst          195\n",
       "HR Specialist    179\n",
       "Name: count, dtype: int64"
      ]
     },
     "execution_count": 4,
     "metadata": {},
     "output_type": "execute_result"
    }
   ],
   "source": [
    "df['Job_Title'].value_counts()"
   ]
  },
  {
   "cell_type": "code",
   "execution_count": 5,
   "id": "41e69d85",
   "metadata": {},
   "outputs": [
    {
     "data": {
      "text/plain": [
       "(800, 9)"
      ]
     },
     "execution_count": 5,
     "metadata": {},
     "output_type": "execute_result"
    }
   ],
   "source": [
    "X = df.drop(columns=['Attrition'])\n",
    "y = df['Attrition']\n",
    "\n",
    "X_train, X_test, y_train, y_test = train_test_split(X,y, test_size =0.2 , random_state = 42)\n",
    "X_train.shape\n"
   ]
  },
  {
   "cell_type": "code",
   "execution_count": 6,
   "id": "6c0b6d46",
   "metadata": {},
   "outputs": [],
   "source": [
    "preprocessor = ColumnTransformer(\n",
    "    transformers=[\n",
    "        ('scaling',StandardScaler(),['Age','Years_at_Company','Average_Monthly_Hours','Salary']),\n",
    "        ('encoding',OneHotEncoder(),['Gender','Department','Job_Title'])\n",
    "        \n",
    "    ], remainder='passthrough'\n",
    ")\n",
    "       "
   ]
  },
  {
   "cell_type": "code",
   "execution_count": 7,
   "id": "27e7618c",
   "metadata": {},
   "outputs": [],
   "source": [
    "X_train = preprocessor.fit_transform(X_train)\n"
   ]
  },
  {
   "cell_type": "code",
   "execution_count": 8,
   "id": "0666faec",
   "metadata": {},
   "outputs": [
    {
     "data": {
      "text/plain": [
       "0.435"
      ]
     },
     "execution_count": 8,
     "metadata": {},
     "output_type": "execute_result"
    }
   ],
   "source": [
    "model = RandomForestClassifier()\n",
    "model.fit(X_train, y_train)\n",
    "\n",
    "X_test = preprocessor.fit_transform(X_test)\n",
    "y_pred = model.predict(X_test)\n",
    "accuracy_score(y_test, y_pred)"
   ]
  },
  {
   "cell_type": "markdown",
   "id": "bb9cc269",
   "metadata": {},
   "source": [
    "## more data"
   ]
  },
  {
   "cell_type": "code",
   "execution_count": 9,
   "id": "4ec69612",
   "metadata": {},
   "outputs": [
    {
     "name": "stdout",
     "output_type": "stream",
     "text": [
      "(59598, 11)\n"
     ]
    }
   ],
   "source": [
    "columns = ['Age','Gender', 'Years at Company', 'Monthly Income', 'Job Role', 'Job Satisfaction', 'Number of Promotions', 'Distance from Home','Remote Work','Leadership Opportunities','Attrition']\n",
    "df = pd.read_csv(\"train.csv\")[columns]\n",
    "print(df.shape)"
   ]
  },
  {
   "cell_type": "code",
   "execution_count": 10,
   "id": "162db4f7",
   "metadata": {},
   "outputs": [
    {
     "data": {
      "text/plain": [
       "['Stayed', 'Left']"
      ]
     },
     "execution_count": 10,
     "metadata": {},
     "output_type": "execute_result"
    }
   ],
   "source": [
    "label_enc = LabelEncoder()\n",
    "df['Attrition'] = label_enc.fit_transform(df['Attrition'])\n",
    "\n",
    "list(label_enc.inverse_transform([1,0]))"
   ]
  },
  {
   "cell_type": "code",
   "execution_count": 11,
   "id": "d8901519",
   "metadata": {},
   "outputs": [
    {
     "data": {
      "text/html": [
       "<div>\n",
       "<style scoped>\n",
       "    .dataframe tbody tr th:only-of-type {\n",
       "        vertical-align: middle;\n",
       "    }\n",
       "\n",
       "    .dataframe tbody tr th {\n",
       "        vertical-align: top;\n",
       "    }\n",
       "\n",
       "    .dataframe thead th {\n",
       "        text-align: right;\n",
       "    }\n",
       "</style>\n",
       "<table border=\"1\" class=\"dataframe\">\n",
       "  <thead>\n",
       "    <tr style=\"text-align: right;\">\n",
       "      <th></th>\n",
       "      <th>Age</th>\n",
       "      <th>Gender</th>\n",
       "      <th>Years at Company</th>\n",
       "      <th>Monthly Income</th>\n",
       "      <th>Job Role</th>\n",
       "      <th>Job Satisfaction</th>\n",
       "      <th>Number of Promotions</th>\n",
       "      <th>Distance from Home</th>\n",
       "      <th>Remote Work</th>\n",
       "      <th>Leadership Opportunities</th>\n",
       "      <th>Attrition</th>\n",
       "    </tr>\n",
       "  </thead>\n",
       "  <tbody>\n",
       "    <tr>\n",
       "      <th>0</th>\n",
       "      <td>31</td>\n",
       "      <td>Male</td>\n",
       "      <td>19</td>\n",
       "      <td>5390</td>\n",
       "      <td>Education</td>\n",
       "      <td>Medium</td>\n",
       "      <td>2</td>\n",
       "      <td>22</td>\n",
       "      <td>No</td>\n",
       "      <td>No</td>\n",
       "      <td>1</td>\n",
       "    </tr>\n",
       "    <tr>\n",
       "      <th>1</th>\n",
       "      <td>59</td>\n",
       "      <td>Female</td>\n",
       "      <td>4</td>\n",
       "      <td>5534</td>\n",
       "      <td>Media</td>\n",
       "      <td>High</td>\n",
       "      <td>3</td>\n",
       "      <td>21</td>\n",
       "      <td>No</td>\n",
       "      <td>No</td>\n",
       "      <td>1</td>\n",
       "    </tr>\n",
       "    <tr>\n",
       "      <th>2</th>\n",
       "      <td>24</td>\n",
       "      <td>Female</td>\n",
       "      <td>10</td>\n",
       "      <td>8159</td>\n",
       "      <td>Healthcare</td>\n",
       "      <td>High</td>\n",
       "      <td>0</td>\n",
       "      <td>11</td>\n",
       "      <td>No</td>\n",
       "      <td>No</td>\n",
       "      <td>1</td>\n",
       "    </tr>\n",
       "    <tr>\n",
       "      <th>3</th>\n",
       "      <td>36</td>\n",
       "      <td>Female</td>\n",
       "      <td>7</td>\n",
       "      <td>3989</td>\n",
       "      <td>Education</td>\n",
       "      <td>High</td>\n",
       "      <td>1</td>\n",
       "      <td>27</td>\n",
       "      <td>Yes</td>\n",
       "      <td>No</td>\n",
       "      <td>1</td>\n",
       "    </tr>\n",
       "    <tr>\n",
       "      <th>4</th>\n",
       "      <td>56</td>\n",
       "      <td>Male</td>\n",
       "      <td>41</td>\n",
       "      <td>4821</td>\n",
       "      <td>Education</td>\n",
       "      <td>Very High</td>\n",
       "      <td>0</td>\n",
       "      <td>71</td>\n",
       "      <td>No</td>\n",
       "      <td>No</td>\n",
       "      <td>1</td>\n",
       "    </tr>\n",
       "  </tbody>\n",
       "</table>\n",
       "</div>"
      ],
      "text/plain": [
       "   Age  Gender  Years at Company  Monthly Income    Job Role Job Satisfaction  \\\n",
       "0   31    Male                19            5390   Education           Medium   \n",
       "1   59  Female                 4            5534       Media             High   \n",
       "2   24  Female                10            8159  Healthcare             High   \n",
       "3   36  Female                 7            3989   Education             High   \n",
       "4   56    Male                41            4821   Education        Very High   \n",
       "\n",
       "   Number of Promotions  Distance from Home Remote Work  \\\n",
       "0                     2                  22          No   \n",
       "1                     3                  21          No   \n",
       "2                     0                  11          No   \n",
       "3                     1                  27         Yes   \n",
       "4                     0                  71          No   \n",
       "\n",
       "  Leadership Opportunities  Attrition  \n",
       "0                       No          1  \n",
       "1                       No          1  \n",
       "2                       No          1  \n",
       "3                       No          1  \n",
       "4                       No          1  "
      ]
     },
     "execution_count": 11,
     "metadata": {},
     "output_type": "execute_result"
    }
   ],
   "source": [
    "df.head()"
   ]
  },
  {
   "cell_type": "code",
   "execution_count": 12,
   "id": "67adb4a2",
   "metadata": {},
   "outputs": [],
   "source": [
    "X_train = df.drop(columns=['Attrition'])\n",
    "y_train = df['Attrition']\n"
   ]
  },
  {
   "cell_type": "code",
   "execution_count": 13,
   "id": "34e0e401",
   "metadata": {},
   "outputs": [],
   "source": [
    "preprocessor = ColumnTransformer(\n",
    "    transformers=[\n",
    "        ('ordinal_enc',OrdinalEncoder(dtype=np.int16),['Job Role','Job Satisfaction']),\n",
    "        ('one_hot',OneHotEncoder(sparse_output=False, drop='first',dtype=np.int16),['Gender','Remote Work','Leadership Opportunities']),\n",
    "#         ('scaler',StandardScaler(),['Age','Years at Company','Monthly Income','Number of Promotions', 'Company Tenure'])\n",
    "        \n",
    "    ], remainder='passthrough'\n",
    ")\n",
    "  "
   ]
  },
  {
   "cell_type": "code",
   "execution_count": 14,
   "id": "315fa923",
   "metadata": {},
   "outputs": [],
   "source": [
    "X_train = preprocessor.fit_transform(X_train)"
   ]
  },
  {
   "cell_type": "code",
   "execution_count": 28,
   "id": "2f964ae8",
   "metadata": {},
   "outputs": [
    {
     "data": {
      "text/plain": [
       "array([   0,    2,    1,    0,    0,   31,   19, 5390,    2,   22],\n",
       "      dtype=int64)"
      ]
     },
     "execution_count": 28,
     "metadata": {},
     "output_type": "execute_result"
    }
   ],
   "source": [
    "X_train[0]"
   ]
  },
  {
   "cell_type": "code",
   "execution_count": 27,
   "id": "5f6ca28c",
   "metadata": {},
   "outputs": [
    {
     "data": {
      "text/plain": [
       "(59598, 10)"
      ]
     },
     "execution_count": 27,
     "metadata": {},
     "output_type": "execute_result"
    }
   ],
   "source": [
    "X_train.shape"
   ]
  },
  {
   "cell_type": "code",
   "execution_count": 15,
   "id": "eb0f7fb0",
   "metadata": {},
   "outputs": [],
   "source": [
    "# model = RandomForestClassifier(\n",
    "#     n_estimators=400,\n",
    "#     max_depth = 70,\n",
    "# #     max_features = 'auto',\n",
    "#     min_samples_leaf = 4,\n",
    "#     min_samples_split  =10,  \n",
    "# )\n",
    "\n",
    "# model = LogisticRegression()\n",
    "# model = GradientBoostingClassifier()\n",
    "\n",
    "# model.fit(X_train, y_train)\n",
    "\n",
    "# # X_test = preprocessor.fit_transform(X_test)\n",
    "# y_pred = model.predict(X_train)\n",
    "# accuracy_score(y_train , y_pred)"
   ]
  },
  {
   "cell_type": "code",
   "execution_count": 16,
   "id": "4e085d17",
   "metadata": {},
   "outputs": [
    {
     "data": {
      "text/plain": [
       "0.6601731601731602"
      ]
     },
     "execution_count": 16,
     "metadata": {},
     "output_type": "execute_result"
    }
   ],
   "source": [
    "from xgboost import XGBClassifier\n",
    "\n",
    "model = XGBClassifier(\n",
    "    n_estimators=1000,\n",
    "    max_depth=6,\n",
    "    learning_rate=0.01,\n",
    "    subsample=0.8,\n",
    "    colsample_bytree=0.8,\n",
    "    gamma=0,\n",
    "    reg_alpha=0.05,\n",
    "    reg_lambda=1,\n",
    "    scale_pos_weight=1,\n",
    "    objective='binary:logistic',\n",
    "    eval_metric='logloss',\n",
    "    use_label_encoder=False,\n",
    ")\n",
    "\n",
    "model.fit(X_train, y_train)\n",
    "\n",
    "# X_test = preprocessor.fit_transform(X_test)\n",
    "y_pred = model.predict(X_train)\n",
    "accuracy_score(y_train , y_pred)"
   ]
  },
  {
   "cell_type": "markdown",
   "id": "2c3b9f35",
   "metadata": {},
   "source": [
    "## test"
   ]
  },
  {
   "cell_type": "code",
   "execution_count": 36,
   "id": "284cda74",
   "metadata": {},
   "outputs": [
    {
     "data": {
      "text/html": [
       "<div>\n",
       "<style scoped>\n",
       "    .dataframe tbody tr th:only-of-type {\n",
       "        vertical-align: middle;\n",
       "    }\n",
       "\n",
       "    .dataframe tbody tr th {\n",
       "        vertical-align: top;\n",
       "    }\n",
       "\n",
       "    .dataframe thead th {\n",
       "        text-align: right;\n",
       "    }\n",
       "</style>\n",
       "<table border=\"1\" class=\"dataframe\">\n",
       "  <thead>\n",
       "    <tr style=\"text-align: right;\">\n",
       "      <th></th>\n",
       "      <th>Age</th>\n",
       "      <th>Gender</th>\n",
       "      <th>Years at Company</th>\n",
       "      <th>Monthly Income</th>\n",
       "      <th>Job Role</th>\n",
       "      <th>Job Satisfaction</th>\n",
       "      <th>Number of Promotions</th>\n",
       "      <th>Distance from Home</th>\n",
       "      <th>Remote Work</th>\n",
       "      <th>Leadership Opportunities</th>\n",
       "      <th>Attrition</th>\n",
       "    </tr>\n",
       "  </thead>\n",
       "  <tbody>\n",
       "    <tr>\n",
       "      <th>0</th>\n",
       "      <td>36</td>\n",
       "      <td>Male</td>\n",
       "      <td>13</td>\n",
       "      <td>8029</td>\n",
       "      <td>Healthcare</td>\n",
       "      <td>High</td>\n",
       "      <td>1</td>\n",
       "      <td>83</td>\n",
       "      <td>No</td>\n",
       "      <td>No</td>\n",
       "      <td>Stayed</td>\n",
       "    </tr>\n",
       "    <tr>\n",
       "      <th>1</th>\n",
       "      <td>35</td>\n",
       "      <td>Male</td>\n",
       "      <td>7</td>\n",
       "      <td>4563</td>\n",
       "      <td>Education</td>\n",
       "      <td>High</td>\n",
       "      <td>1</td>\n",
       "      <td>55</td>\n",
       "      <td>No</td>\n",
       "      <td>No</td>\n",
       "      <td>Left</td>\n",
       "    </tr>\n",
       "    <tr>\n",
       "      <th>2</th>\n",
       "      <td>50</td>\n",
       "      <td>Male</td>\n",
       "      <td>7</td>\n",
       "      <td>5583</td>\n",
       "      <td>Education</td>\n",
       "      <td>High</td>\n",
       "      <td>3</td>\n",
       "      <td>14</td>\n",
       "      <td>No</td>\n",
       "      <td>No</td>\n",
       "      <td>Stayed</td>\n",
       "    </tr>\n",
       "    <tr>\n",
       "      <th>3</th>\n",
       "      <td>58</td>\n",
       "      <td>Male</td>\n",
       "      <td>44</td>\n",
       "      <td>5525</td>\n",
       "      <td>Media</td>\n",
       "      <td>Very High</td>\n",
       "      <td>0</td>\n",
       "      <td>43</td>\n",
       "      <td>No</td>\n",
       "      <td>No</td>\n",
       "      <td>Left</td>\n",
       "    </tr>\n",
       "    <tr>\n",
       "      <th>4</th>\n",
       "      <td>39</td>\n",
       "      <td>Male</td>\n",
       "      <td>24</td>\n",
       "      <td>4604</td>\n",
       "      <td>Education</td>\n",
       "      <td>High</td>\n",
       "      <td>0</td>\n",
       "      <td>47</td>\n",
       "      <td>Yes</td>\n",
       "      <td>No</td>\n",
       "      <td>Stayed</td>\n",
       "    </tr>\n",
       "  </tbody>\n",
       "</table>\n",
       "</div>"
      ],
      "text/plain": [
       "   Age Gender  Years at Company  Monthly Income    Job Role Job Satisfaction  \\\n",
       "0   36   Male                13            8029  Healthcare             High   \n",
       "1   35   Male                 7            4563   Education             High   \n",
       "2   50   Male                 7            5583   Education             High   \n",
       "3   58   Male                44            5525       Media        Very High   \n",
       "4   39   Male                24            4604   Education             High   \n",
       "\n",
       "   Number of Promotions  Distance from Home Remote Work  \\\n",
       "0                     1                  83          No   \n",
       "1                     1                  55          No   \n",
       "2                     3                  14          No   \n",
       "3                     0                  43          No   \n",
       "4                     0                  47         Yes   \n",
       "\n",
       "  Leadership Opportunities Attrition  \n",
       "0                       No    Stayed  \n",
       "1                       No      Left  \n",
       "2                       No    Stayed  \n",
       "3                       No      Left  \n",
       "4                       No    Stayed  "
      ]
     },
     "execution_count": 36,
     "metadata": {},
     "output_type": "execute_result"
    }
   ],
   "source": [
    "df_test = pd.read_csv(\"test.csv\")[columns]\n",
    "df_test.head()"
   ]
  },
  {
   "cell_type": "code",
   "execution_count": 37,
   "id": "8a5cbac2",
   "metadata": {},
   "outputs": [
    {
     "data": {
      "text/html": [
       "<div>\n",
       "<style scoped>\n",
       "    .dataframe tbody tr th:only-of-type {\n",
       "        vertical-align: middle;\n",
       "    }\n",
       "\n",
       "    .dataframe tbody tr th {\n",
       "        vertical-align: top;\n",
       "    }\n",
       "\n",
       "    .dataframe thead th {\n",
       "        text-align: right;\n",
       "    }\n",
       "</style>\n",
       "<table border=\"1\" class=\"dataframe\">\n",
       "  <thead>\n",
       "    <tr style=\"text-align: right;\">\n",
       "      <th></th>\n",
       "      <th>Age</th>\n",
       "      <th>Gender</th>\n",
       "      <th>Years at Company</th>\n",
       "      <th>Monthly Income</th>\n",
       "      <th>Job Role</th>\n",
       "      <th>Job Satisfaction</th>\n",
       "      <th>Number of Promotions</th>\n",
       "      <th>Distance from Home</th>\n",
       "      <th>Remote Work</th>\n",
       "      <th>Leadership Opportunities</th>\n",
       "      <th>Attrition</th>\n",
       "    </tr>\n",
       "  </thead>\n",
       "  <tbody>\n",
       "    <tr>\n",
       "      <th>0</th>\n",
       "      <td>31</td>\n",
       "      <td>Male</td>\n",
       "      <td>19</td>\n",
       "      <td>5390</td>\n",
       "      <td>Education</td>\n",
       "      <td>Medium</td>\n",
       "      <td>2</td>\n",
       "      <td>22</td>\n",
       "      <td>No</td>\n",
       "      <td>No</td>\n",
       "      <td>1</td>\n",
       "    </tr>\n",
       "    <tr>\n",
       "      <th>1</th>\n",
       "      <td>59</td>\n",
       "      <td>Female</td>\n",
       "      <td>4</td>\n",
       "      <td>5534</td>\n",
       "      <td>Media</td>\n",
       "      <td>High</td>\n",
       "      <td>3</td>\n",
       "      <td>21</td>\n",
       "      <td>No</td>\n",
       "      <td>No</td>\n",
       "      <td>1</td>\n",
       "    </tr>\n",
       "    <tr>\n",
       "      <th>2</th>\n",
       "      <td>24</td>\n",
       "      <td>Female</td>\n",
       "      <td>10</td>\n",
       "      <td>8159</td>\n",
       "      <td>Healthcare</td>\n",
       "      <td>High</td>\n",
       "      <td>0</td>\n",
       "      <td>11</td>\n",
       "      <td>No</td>\n",
       "      <td>No</td>\n",
       "      <td>1</td>\n",
       "    </tr>\n",
       "    <tr>\n",
       "      <th>3</th>\n",
       "      <td>36</td>\n",
       "      <td>Female</td>\n",
       "      <td>7</td>\n",
       "      <td>3989</td>\n",
       "      <td>Education</td>\n",
       "      <td>High</td>\n",
       "      <td>1</td>\n",
       "      <td>27</td>\n",
       "      <td>Yes</td>\n",
       "      <td>No</td>\n",
       "      <td>1</td>\n",
       "    </tr>\n",
       "    <tr>\n",
       "      <th>4</th>\n",
       "      <td>56</td>\n",
       "      <td>Male</td>\n",
       "      <td>41</td>\n",
       "      <td>4821</td>\n",
       "      <td>Education</td>\n",
       "      <td>Very High</td>\n",
       "      <td>0</td>\n",
       "      <td>71</td>\n",
       "      <td>No</td>\n",
       "      <td>No</td>\n",
       "      <td>1</td>\n",
       "    </tr>\n",
       "  </tbody>\n",
       "</table>\n",
       "</div>"
      ],
      "text/plain": [
       "   Age  Gender  Years at Company  Monthly Income    Job Role Job Satisfaction  \\\n",
       "0   31    Male                19            5390   Education           Medium   \n",
       "1   59  Female                 4            5534       Media             High   \n",
       "2   24  Female                10            8159  Healthcare             High   \n",
       "3   36  Female                 7            3989   Education             High   \n",
       "4   56    Male                41            4821   Education        Very High   \n",
       "\n",
       "   Number of Promotions  Distance from Home Remote Work  \\\n",
       "0                     2                  22          No   \n",
       "1                     3                  21          No   \n",
       "2                     0                  11          No   \n",
       "3                     1                  27         Yes   \n",
       "4                     0                  71          No   \n",
       "\n",
       "  Leadership Opportunities  Attrition  \n",
       "0                       No          1  \n",
       "1                       No          1  \n",
       "2                       No          1  \n",
       "3                       No          1  \n",
       "4                       No          1  "
      ]
     },
     "execution_count": 37,
     "metadata": {},
     "output_type": "execute_result"
    }
   ],
   "source": [
    "df.head()"
   ]
  },
  {
   "cell_type": "code",
   "execution_count": 38,
   "id": "c4df4e87",
   "metadata": {},
   "outputs": [
    {
     "data": {
      "text/plain": [
       "Attrition\n",
       "Stayed    7868\n",
       "Left      7032\n",
       "Name: count, dtype: int64"
      ]
     },
     "execution_count": 38,
     "metadata": {},
     "output_type": "execute_result"
    }
   ],
   "source": [
    "df_test['Attrition'].value_counts()"
   ]
  },
  {
   "cell_type": "code",
   "execution_count": 39,
   "id": "7e50fdb2",
   "metadata": {},
   "outputs": [
    {
     "data": {
      "text/html": [
       "<div>\n",
       "<style scoped>\n",
       "    .dataframe tbody tr th:only-of-type {\n",
       "        vertical-align: middle;\n",
       "    }\n",
       "\n",
       "    .dataframe tbody tr th {\n",
       "        vertical-align: top;\n",
       "    }\n",
       "\n",
       "    .dataframe thead th {\n",
       "        text-align: right;\n",
       "    }\n",
       "</style>\n",
       "<table border=\"1\" class=\"dataframe\">\n",
       "  <thead>\n",
       "    <tr style=\"text-align: right;\">\n",
       "      <th></th>\n",
       "      <th>Age</th>\n",
       "      <th>Gender</th>\n",
       "      <th>Years at Company</th>\n",
       "      <th>Monthly Income</th>\n",
       "      <th>Job Role</th>\n",
       "      <th>Job Satisfaction</th>\n",
       "      <th>Number of Promotions</th>\n",
       "      <th>Distance from Home</th>\n",
       "      <th>Remote Work</th>\n",
       "      <th>Leadership Opportunities</th>\n",
       "      <th>Attrition</th>\n",
       "    </tr>\n",
       "  </thead>\n",
       "  <tbody>\n",
       "    <tr>\n",
       "      <th>0</th>\n",
       "      <td>36</td>\n",
       "      <td>Male</td>\n",
       "      <td>13</td>\n",
       "      <td>8029</td>\n",
       "      <td>Healthcare</td>\n",
       "      <td>High</td>\n",
       "      <td>1</td>\n",
       "      <td>83</td>\n",
       "      <td>No</td>\n",
       "      <td>No</td>\n",
       "      <td>1</td>\n",
       "    </tr>\n",
       "    <tr>\n",
       "      <th>1</th>\n",
       "      <td>35</td>\n",
       "      <td>Male</td>\n",
       "      <td>7</td>\n",
       "      <td>4563</td>\n",
       "      <td>Education</td>\n",
       "      <td>High</td>\n",
       "      <td>1</td>\n",
       "      <td>55</td>\n",
       "      <td>No</td>\n",
       "      <td>No</td>\n",
       "      <td>0</td>\n",
       "    </tr>\n",
       "    <tr>\n",
       "      <th>2</th>\n",
       "      <td>50</td>\n",
       "      <td>Male</td>\n",
       "      <td>7</td>\n",
       "      <td>5583</td>\n",
       "      <td>Education</td>\n",
       "      <td>High</td>\n",
       "      <td>3</td>\n",
       "      <td>14</td>\n",
       "      <td>No</td>\n",
       "      <td>No</td>\n",
       "      <td>1</td>\n",
       "    </tr>\n",
       "    <tr>\n",
       "      <th>3</th>\n",
       "      <td>58</td>\n",
       "      <td>Male</td>\n",
       "      <td>44</td>\n",
       "      <td>5525</td>\n",
       "      <td>Media</td>\n",
       "      <td>Very High</td>\n",
       "      <td>0</td>\n",
       "      <td>43</td>\n",
       "      <td>No</td>\n",
       "      <td>No</td>\n",
       "      <td>0</td>\n",
       "    </tr>\n",
       "    <tr>\n",
       "      <th>4</th>\n",
       "      <td>39</td>\n",
       "      <td>Male</td>\n",
       "      <td>24</td>\n",
       "      <td>4604</td>\n",
       "      <td>Education</td>\n",
       "      <td>High</td>\n",
       "      <td>0</td>\n",
       "      <td>47</td>\n",
       "      <td>Yes</td>\n",
       "      <td>No</td>\n",
       "      <td>1</td>\n",
       "    </tr>\n",
       "  </tbody>\n",
       "</table>\n",
       "</div>"
      ],
      "text/plain": [
       "   Age Gender  Years at Company  Monthly Income    Job Role Job Satisfaction  \\\n",
       "0   36   Male                13            8029  Healthcare             High   \n",
       "1   35   Male                 7            4563   Education             High   \n",
       "2   50   Male                 7            5583   Education             High   \n",
       "3   58   Male                44            5525       Media        Very High   \n",
       "4   39   Male                24            4604   Education             High   \n",
       "\n",
       "   Number of Promotions  Distance from Home Remote Work  \\\n",
       "0                     1                  83          No   \n",
       "1                     1                  55          No   \n",
       "2                     3                  14          No   \n",
       "3                     0                  43          No   \n",
       "4                     0                  47         Yes   \n",
       "\n",
       "  Leadership Opportunities  Attrition  \n",
       "0                       No          1  \n",
       "1                       No          0  \n",
       "2                       No          1  \n",
       "3                       No          0  \n",
       "4                       No          1  "
      ]
     },
     "execution_count": 39,
     "metadata": {},
     "output_type": "execute_result"
    }
   ],
   "source": [
    "df_test['Attrition']=label_enc.transform(df_test['Attrition'])\n",
    "df_test.head()"
   ]
  },
  {
   "cell_type": "code",
   "execution_count": 51,
   "id": "22de3bc7",
   "metadata": {},
   "outputs": [],
   "source": [
    "X_test = df_test.drop(columns=['Attrition'])\n",
    "y_test = df_test['Attrition']"
   ]
  },
  {
   "cell_type": "code",
   "execution_count": 52,
   "id": "30891c4e",
   "metadata": {},
   "outputs": [
    {
     "data": {
      "text/plain": [
       "(14900, 10)"
      ]
     },
     "execution_count": 52,
     "metadata": {},
     "output_type": "execute_result"
    }
   ],
   "source": [
    "X_test.shape"
   ]
  },
  {
   "cell_type": "code",
   "execution_count": 55,
   "id": "7df1200f",
   "metadata": {},
   "outputs": [
    {
     "data": {
      "text/plain": [
       "array([[   0,    0,    1,    0,    0,   35,    7, 4563,    1,   55]],\n",
       "      dtype=int64)"
      ]
     },
     "execution_count": 55,
     "metadata": {},
     "output_type": "execute_result"
    }
   ],
   "source": [
    "preprocessor.transform(pd.DataFrame([X_test.iloc[1,:]]))"
   ]
  },
  {
   "cell_type": "code",
   "execution_count": 22,
   "id": "5dac938e",
   "metadata": {},
   "outputs": [],
   "source": [
    "X_test = preprocessor.transform(X_test)"
   ]
  },
  {
   "cell_type": "code",
   "execution_count": 23,
   "id": "2e8f01b1",
   "metadata": {},
   "outputs": [
    {
     "data": {
      "text/plain": [
       "0.6236912751677852"
      ]
     },
     "execution_count": 23,
     "metadata": {},
     "output_type": "execute_result"
    }
   ],
   "source": [
    "y_pred = model.predict(X_test)\n",
    "accuracy_score(y_test, y_pred)"
   ]
  },
  {
   "cell_type": "code",
   "execution_count": 24,
   "id": "a57160cc",
   "metadata": {},
   "outputs": [],
   "source": [
    "import pickle\n",
    "\n",
    "pickle.dump(model, open('model.pkl','wb'))\n",
    "pickle.dump(preprocessor, open('preprocessor.pkl','wb'))"
   ]
  },
  {
   "cell_type": "code",
   "execution_count": 31,
   "id": "fcdee43f",
   "metadata": {},
   "outputs": [
    {
     "data": {
      "text/plain": [
       "(14900, 10)"
      ]
     },
     "execution_count": 31,
     "metadata": {},
     "output_type": "execute_result"
    }
   ],
   "source": [
    "X_test.shape"
   ]
  },
  {
   "cell_type": "code",
   "execution_count": 32,
   "id": "0bfe5c8f",
   "metadata": {},
   "outputs": [
    {
     "data": {
      "text/plain": [
       "array([0])"
      ]
     },
     "execution_count": 32,
     "metadata": {},
     "output_type": "execute_result"
    }
   ],
   "source": [
    "model.predict([X_test[0]])"
   ]
  },
  {
   "cell_type": "code",
   "execution_count": null,
   "id": "db18ee09",
   "metadata": {},
   "outputs": [],
   "source": []
  }
 ],
 "metadata": {
  "kernelspec": {
   "display_name": "Python 3 (ipykernel)",
   "language": "python",
   "name": "python3"
  },
  "language_info": {
   "codemirror_mode": {
    "name": "ipython",
    "version": 3
   },
   "file_extension": ".py",
   "mimetype": "text/x-python",
   "name": "python",
   "nbconvert_exporter": "python",
   "pygments_lexer": "ipython3",
   "version": "3.11.5"
  }
 },
 "nbformat": 4,
 "nbformat_minor": 5
}
